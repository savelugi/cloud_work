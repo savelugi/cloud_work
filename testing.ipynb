{
 "cells": [
  {
   "cell_type": "code",
   "execution_count": null,
   "metadata": {},
   "outputs": [],
   "source": [
    "from visualization import *\n",
    "\n",
    "timestamp = '20240504202421'\n",
    "\n",
    "save_dir = '/Users/ebenbot/Documents/University/cloud_work/saves/'\n",
    "save_path = save_dir + timestamp + '/'\n",
    "file_path = save_path+\"cost_GEN_SUM_100/\" + \"cost_GEN_SUM_100_5_6_20\" + \".gml\"\n",
    "\n",
    "file_path = 'saves/20240504202421/cost_GEN_SUM_100/cost_GEN_SUM_100_5_6_20.gml'\n",
    "draw_graph_from_gml(file_path, 1, 'test')"
   ]
  },
  {
   "cell_type": "code",
   "execution_count": null,
   "metadata": {},
   "outputs": [],
   "source": [
    "from network_graph import *\n",
    "\n",
    "network = NetworkGraph()\n",
    "topology_dir = 'saves/20240505080925/cost_ILP_SUM_100/cost_ILP_SUM_100_9_6_20.gml'\n",
    "network.load_topology(topology_dir)\n",
    "\n",
    "#ilp_sum ilp_ipd gen_sum gen_ipd\n",
    "method_type='gen_sum'\n",
    "\n",
    "network.calculate_player_server_connections_from_gml()\n",
    "\n",
    "network.calculate_delays(method_type=method_type, debug_prints=True)\n"
   ]
  }
 ],
 "metadata": {
  "kernelspec": {
   "display_name": "Python 3",
   "language": "python",
   "name": "python3"
  },
  "language_info": {
   "codemirror_mode": {
    "name": "ipython",
    "version": 3
   },
   "file_extension": ".py",
   "mimetype": "text/x-python",
   "name": "python",
   "nbconvert_exporter": "python",
   "pygments_lexer": "ipython3",
   "version": "3.12.2"
  },
  "orig_nbformat": 4
 },
 "nbformat": 4,
 "nbformat_minor": 2
}

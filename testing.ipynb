{
 "cells": [
  {
   "cell_type": "code",
   "execution_count": null,
   "metadata": {},
   "outputs": [],
   "source": [
    "from visualization import *\n",
    "from network_graph import *\n",
    "\n",
    "timestamp = '20240504202421'\n",
    "\n",
    "save_dir = '/Users/ebenbot/Documents/University/cloud_work/saves/'\n",
    "save_path = save_dir + timestamp + '/'\n",
    "file_path = save_path+\"cost_GEN_SUM_100/\" + \"cost_GEN_SUM_100_5_6_20\" + \".gml\"\n",
    "\n",
    "#file_path = 'saves/20240504202421/cost_GEN_SUM_100/cost_GEN_SUM_100_5_6_20.gml'\n",
    "file_path = 'saves/20240506182314_cost/cost_gen_sum_ipd_100/cost_gen_sum_ipd_100_24_6_20.gml'\n",
    "draw_graph_from_gml(file_path, 'test', node_size=300, edge_width_factor=2.0, figsize=(12, 8))\n",
    "\n",
    "network=NetworkGraph()\n",
    "network.load_topology(file_path)\n",
    "\n",
    "network.calculate_player_server_connections_from_gml()\n",
    "method_type = 'cost'\n",
    "network.calculate_delays(method_type=method_type, debug_prints=True)"
   ]
  },
  {
   "cell_type": "code",
   "execution_count": null,
   "metadata": {},
   "outputs": [],
   "source": [
    "from visualization import *\n",
    "from network_graph import *\n",
    "\n",
    "config_file = \"/Users/ebenbot/Documents/University/cloud_work/genconfig.ini\"\n",
    "config = read_configuration(config_file)\n",
    "save_dir = get_save_dir(config)\n",
    "_, _, _, active_models = get_toggles_from_genconfig(config)\n",
    "\n",
    "\n",
    "csv_file_name = 'ga20240507113522_germany/germany_500.0_20240507113522.csv'\n",
    "df_results = pd.read_csv(save_dir + csv_file_name, comment='#')"
   ]
  },
  {
   "cell_type": "code",
   "execution_count": null,
   "metadata": {},
   "outputs": [],
   "source": [
    "draw_ga_compare_plot(*active_models, df=df_results, x='', x_label='Run nr.',\n",
    "                    plot_type='max_player_to_server_delay_', y_label='Simulation time [s]',\n",
    "                    title='Simulation time comparison', invert=False, same_params=True)"
   ]
  },
  {
   "cell_type": "code",
   "execution_count": null,
   "metadata": {},
   "outputs": [],
   "source": [
    "draw_ga_compare_plot(*active_models, df=df_results, x='tournament_size', x_label='Nr. of game servers',\n",
    "                  plot_type='qoe_score_', y_label='QoE',\n",
    "                  title='QoE comparison')"
   ]
  },
  {
   "cell_type": "code",
   "execution_count": null,
   "metadata": {},
   "outputs": [],
   "source": [
    "draw_ga_compare_plot(*active_models, df=df_results, x='tournament_size', x_label='Nr. of game servers',\n",
    "                  plot_type='average_player_to_server_delay_', y_label='Avg. Player-to-Server Delay [ms]',\n",
    "                  title='Average Player-to-Server Delay Comparison')"
   ]
  },
  {
   "cell_type": "code",
   "execution_count": null,
   "metadata": {},
   "outputs": [],
   "source": [
    "draw_ga_compare_plot(*active_models, df=df_results, x='tournament_size', x_label='Nr. of game servers',\n",
    "                  plot_type='average_player_to_player_delay_', y_label='Avg. Player-to-Player Delay [ms]',\n",
    "                  title='Average Player-to-Player Delay Comparison')"
   ]
  },
  {
   "cell_type": "code",
   "execution_count": null,
   "metadata": {},
   "outputs": [],
   "source": [
    "from network_graph import *\n",
    "from visualization import *\n",
    "\n",
    "network = NetworkGraph()\n",
    "topology_dir = 'saves/20240505132437/germany_gen_sum_100/germany_gen_sum_100_30_4_32.gml'\n",
    "network.load_topology(topology_dir)\n",
    "\n",
    "#draw_graph_from_gml(topology_dir, 'test', node_size=300, edge_width_factor=2.0, figsize=(12, 8))\n",
    "\n",
    "#ilp_sum ilp_ipd gen_sum gen_ipd\n",
    "method_type='gen_sum'\n",
    "\n",
    "network.calculate_player_server_connections_from_gml()\n",
    "\n",
    "network.calculate_delays(method_type=method_type, debug_prints=False)\n",
    "\n",
    "plt.figure(figsize=(10, 6))\n",
    "# Define node positions using Latitude and Longitude attributes\n",
    "positions = {node: (float(network.graph.nodes[node]['Longitude']), float(network.graph.nodes[node]['Latitude'])) \n",
    "            for node in network.graph.nodes() if 'Latitude' in network.graph.nodes[node] and 'Longitude' in network.graph.nodes[node]}\n",
    "\n",
    "# Draw the nodes and edges of the network graph\n",
    "nx.draw(network.graph, positions, with_labels=True, node_color='lightblue', node_size=500, font_weight='bold')\n",
    "\n",
    "def update_paths(frame):\n",
    "    plt.clf()  # Clear the plot for each frame\n",
    "    nx.draw(network.graph, positions, with_labels=True, node_color='lightblue', node_size=500, font_weight='bold')\n",
    "    \n",
    "    # Generate a unique color for each path\n",
    "    unique_color = '#{0:06x}'.format(random.randint(0, 0xFFFFFF))\n",
    "\n",
    "    # Draw paths for the current frame/player with the unique color\n",
    "    path = network.player_server_paths[frame]\n",
    "    edges = [(path[j], path[j + 1]) for j in range(len(path) - 1)]\n",
    "    \n",
    "    # Use the same color for all edges in the path\n",
    "    nx.draw_networkx_edges(self.network_graph.graph, positions, edgelist=edges, edge_color=unique_color, width=4.0)\n",
    "\n",
    "    plt.title(\"Paths from Players to Servers (Frame: {})\".format(frame + 1))\n",
    "\n",
    "num_frames = len(network.player_server_paths)\n",
    "\n",
    "# Create an animation\n",
    "anim = FuncAnimation(plt.gcf(), update_paths, frames=num_frames, interval=1000, repeat=True)\n",
    "\n",
    "plt.show()"
   ]
  },
  {
   "cell_type": "code",
   "execution_count": null,
   "metadata": {},
   "outputs": [],
   "source": [
    "from visualization import *\n",
    "from network_graph import *\n",
    "\n",
    "config_file = \"/Users/ebenbot/Documents/University/cloud_work/config.ini\"\n",
    "config = read_configuration(config_file)\n",
    "save_dir = get_save_dir(config)\n",
    "_, _, _, _, active_models = get_toggles_from_config(config)\n",
    "\n",
    "\n",
    "csv_file_name = '20240506214447_cost/cost_100_20240506214447.csv'\n",
    "df_results = pd.read_csv(save_dir + csv_file_name, comment='#')"
   ]
  },
  {
   "cell_type": "code",
   "execution_count": null,
   "metadata": {},
   "outputs": [],
   "source": [
    "draw_compare_plot(*active_models, df=df_results, x='nr_of_servers', x_label='Nr. of game servers',\n",
    "                    plot_type='max_player_to_server_delay_', y_label='QoE',\n",
    "                    title='QoE comparison')"
   ]
  }
 ],
 "metadata": {
  "kernelspec": {
   "display_name": "Python 3",
   "language": "python",
   "name": "python3"
  },
  "language_info": {
   "codemirror_mode": {
    "name": "ipython",
    "version": 3
   },
   "file_extension": ".py",
   "mimetype": "text/x-python",
   "name": "python",
   "nbconvert_exporter": "python",
   "pygments_lexer": "ipython3",
   "version": "3.12.2"
  },
  "orig_nbformat": 4
 },
 "nbformat": 4,
 "nbformat_minor": 2
}

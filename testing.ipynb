{
 "cells": [
  {
   "cell_type": "markdown",
   "metadata": {},
   "source": [
    "# Imports"
   ]
  },
  {
   "cell_type": "code",
   "execution_count": null,
   "metadata": {},
   "outputs": [],
   "source": [
    "\n",
    "import networkx as nx\n",
    "import matplotlib.pyplot as plt\n",
    "\n",
    "#topology_dir = \"C:/Users/bbenc/Documents/NETWORKZ/cloud_work/src/\"\n",
    "topology_dir = \"C:/Users/bbenc/OneDrive/Documents/aGraph/cloud_work/src/\"\n",
    "G = nx.read_gml(topology_dir+\"26_usa.gml\")\n",
    "\n"
   ]
  },
  {
   "cell_type": "code",
   "execution_count": null,
   "metadata": {},
   "outputs": [],
   "source": [
    "graph = G;\n",
    "# Get the number of nodes and edges in the network\n",
    "num_nodes = len(graph.nodes())\n",
    "num_edges = len(graph.edges())\n",
    "\n",
    "# Calculate the average degree of the network\n",
    "avg_degree = sum(dict(graph.degree()).values()) / num_nodes\n",
    "\n",
    "print(f\"Number of nodes: {num_nodes}\")\n",
    "print(f\"Number of edges: {num_edges}\")\n",
    "print(f\"Average degree: {avg_degree}\")\n",
    "\n",
    "graph.edges()\n"
   ]
  },
  {
   "cell_type": "code",
   "execution_count": null,
   "metadata": {},
   "outputs": [],
   "source": [
    "import networkx as nx\n",
    "import matplotlib.pyplot as plt\n",
    "\n",
    "topology_dir = \"C:/Users/bbenc/Documents/NETWORKZ/cloud_work/src/\"\n",
    "\n",
    "# Load the graph from the GML file\n",
    "graph = nx.read_gml(topology_dir + \"50_germany.gml\")\n",
    "\n",
    "# Retrieve node positions from the 'Longitude' and 'Latitude' attributes\n",
    "pos = {node_id: (data['Longitude'], data['Latitude']) for node_id, data in graph.nodes(data=True)}\n",
    "\n",
    "# Create a basic network visualization\n",
    "nx.draw(graph, pos, with_labels=True, node_size=50, node_color='skyblue', font_size=6)\n",
    "\n",
    "# Display the visualization\n",
    "plt.show()\n"
   ]
  },
  {
   "cell_type": "code",
   "execution_count": null,
   "metadata": {},
   "outputs": [],
   "source": [
    "## UTILS AND METHODS\n",
    "import networkx as nx\n",
    "import matplotlib.pyplot as plt\n",
    "import random\n",
    "\n",
    "def generate_players(num_players=10, x_range=(0, 100), y_range=(0, 100)):\n",
    "    players = {}\n",
    "    x_start, x_stop = x_range\n",
    "    y_start, y_stop = y_range\n",
    "    for i in range(num_players):\n",
    "        player_name = f\"P{i+1}\"\n",
    "        x = random.uniform(x_start, x_stop)\n",
    "        y = random.uniform(y_start, y_stop)\n",
    "        players[player_name] = (x, y)\n",
    "    return players\n",
    "\n",
    "\n",
    "\n",
    "def generate_servers():\n",
    "    # Prediktív szerverek pozíciói\n",
    "    servers = {\n",
    "        \"S1\": (0, 0),\n",
    "        \"S2\": (50, 50),\n",
    "        \"S3\": (100, 100)\n",
    "    }\n",
    "    return servers\n",
    "\n",
    "\n",
    "def connect_player_to_server(players, player, servers, G):\n",
    "    player_position = players[player]\n",
    "    \n",
    "    # Legközelebbi szerver kiválasztása\n",
    "    closest_server = min(servers, key=lambda server: abs(player_position[0] - servers[server][0]) + abs(player_position[1] - servers[server][1]))\n",
    "    \n",
    "    # Él hozzáadása a játékos és a legközelebbi szerver között\n",
    "    distance = abs(player_position[0] - servers[closest_server][0]) + abs(player_position[1] - servers[closest_server][1])\n",
    "    G.add_edge(player, closest_server, weight=distance)\n",
    "    \n",
    "    return G\n",
    "\n",
    "\n",
    "def draw_graph(G, pos, servers, players, canvas_size, node_size=200, show_edge_labels=False):\n",
    "    plt.figure(figsize=canvas_size)\n",
    "    print(G.edges())\n",
    "    # Szerverek kirajzolása\n",
    "    nx.draw_networkx_nodes(G, pos, nodelist=servers.keys(), node_color='b', node_size=2.5*node_size, label=\"Servers\")\n",
    "    # Játékosok kirajzolása\n",
    "    nx.draw_networkx_nodes(G, pos, nodelist=players.keys(), node_color='g', node_size=node_size, label=\"Players\")\n",
    "\n",
    "    # Élek kirajzolása\n",
    "    nx.draw_networkx_edges(G, pos, edgelist=G.edges(), width=1.0, alpha=0.5)\n",
    "\n",
    "\n",
    "    # Él súlyok (távolságok) hozzáadása\n",
    "    if show_edge_labels:\n",
    "        edge_labels = {(player, server): G[player][server][\"weight\"] for player, server in G.edges}\n",
    "        nx.draw_networkx_edge_labels(G, pos, edge_labels=edge_labels)\n",
    "\n",
    "    # Címkék hozzáadása a csomópontokhoz\n",
    "    node_labels = {node: node for node in G.nodes}\n",
    "    nx.draw_networkx_labels(G, pos, labels=node_labels)\n",
    "\n",
    "    # Kirajzolás beállításai\n",
    "    plt.title(\"Szerverek és Játékosok\")\n",
    "    plt.show()\n"
   ]
  },
  {
   "cell_type": "code",
   "execution_count": null,
   "metadata": {},
   "outputs": [],
   "source": [
    "# Játékosok pozícióinak generálása\n",
    "num_players = 100\n",
    "random_range = 100\n",
    "players = generate_players(num_players, random_range)\n",
    "\n",
    "servers = generate_servers()\n",
    "\n",
    "# Gráf létrehozása és pozíciók hozzáadása\n",
    "G = nx.Graph()\n",
    "G.add_nodes_from(servers.keys())\n",
    "G.add_nodes_from(players.keys())\n",
    "\n",
    "# Játékosok összekapcsolása a legközelebbi szerverekkel\n",
    "for player in players:\n",
    "    G = connect_player_to_server(player, servers, G)\n",
    "\n",
    "# Pozíció információk előkészítése és gráf kirajzolása\n",
    "pos = {**servers, **players}\n",
    "draw_graph(G, pos, canvas_size=(24, 20), node_size=300, show_edge_labels=False)"
   ]
  },
  {
   "cell_type": "code",
   "execution_count": null,
   "metadata": {},
   "outputs": [],
   "source": [
    "# Adding server nodes\n",
    "G = nx.read_gml(topology_dir+\"26_usa.gml\")\n",
    "\n",
    "# Szerverek pozícióinak kinyerése\n",
    "server_positions = {}\n",
    "for node in G.nodes(data=True):\n",
    "    node_id = node[0]\n",
    "    node_data = node[1]\n",
    "    if 'Latitude' in node_data and 'Longitude' in node_data:\n",
    "        latitude = node_data['Latitude']\n",
    "        longitude = node_data['Longitude']\n",
    "        server_positions[node_id] = (longitude, latitude)  # A pozíció sorrendje longitude, latitude\n",
    "\n",
    "\n",
    "# Adding player\n",
    "num_players = 100\n",
    "lat_range = (25,45)\n",
    "long_range = (-123, -70)\n",
    "players = generate_players(num_players, long_range, lat_range)\n",
    "G.add_nodes_from(players.keys())\n",
    "\n",
    "# Pozíció információk előkészítése\n",
    "pos = {**server_positions, **players}\n",
    "\n",
    "# Játékosok összekapcsolása a legközelebbi szerverekkel\n",
    "for player in players:\n",
    "    G = connect_player_to_server(players, player, server_positions, G)\n",
    "\n",
    "# Gráf kirajzolása \n",
    "draw_graph(G, pos, server_positions, players, canvas_size=(48, 30), node_size=300, show_edge_labels=False)\n",
    "\n",
    "\n",
    "\n",
    "\n"
   ]
  },
  {
   "cell_type": "code",
   "execution_count": null,
   "metadata": {},
   "outputs": [],
   "source": [
    "server_positions = {}\n",
    "for node in G.nodes(data=True):\n",
    "    node_id = node[0]\n",
    "    node_data = node[1]\n",
    "    if 'Latitude' in node_data and 'Longitude' in node_data:\n",
    "        latitude = node_data['Latitude']\n",
    "        longitude = node_data['Longitude']\n",
    "        server_positions[node_id] = (longitude, latitude)  # A pozíció sorrendje longitude, latitude\n",
    "    "
   ]
  },
  {
   "cell_type": "code",
   "execution_count": null,
   "metadata": {},
   "outputs": [],
   "source": [
    "for pos in server_positions.values():\n",
    "    print(pos)"
   ]
  },
  {
   "cell_type": "code",
   "execution_count": null,
   "metadata": {},
   "outputs": [],
   "source": [
    "for pos in players.values():\n",
    "    print(pos)"
   ]
  },
  {
   "cell_type": "code",
   "execution_count": null,
   "metadata": {},
   "outputs": [],
   "source": [
    "import networkx as nx\n",
    "# Create a graph\n",
    "G = nx.wheel_graph(7)\n",
    "\n",
    "print(\"Vertices:\",G.nodes)\n",
    "print(\"Edges:\",G.edges)"
   ]
  },
  {
   "cell_type": "code",
   "execution_count": 20,
   "metadata": {},
   "outputs": [
    {
     "name": "stdout",
     "output_type": "stream",
     "text": [
      "367.53396932057234\n"
     ]
    }
   ],
   "source": [
    "# Adding server nodes\n",
    "G = nx.read_gml(topology_dir+\"26_usa.gml\")\n",
    "\n",
    "# Szerverek pozícióinak kinyerése\n",
    "server_positions = {}\n",
    "for node in G.nodes(data=True):\n",
    "    node_id = node[0]\n",
    "    node_data = node[1]\n",
    "    if 'Latitude' in node_data and 'Longitude' in node_data:\n",
    "        latitude = node_data['Latitude']\n",
    "        longitude = node_data['Longitude']\n",
    "        server_positions[node_id] = (longitude, latitude)  # A pozíció sorrendje longitude, latitude\n",
    "\n",
    "\n",
    "# Adding player\n",
    "num_players = 100\n",
    "lat_range = (25,45)\n",
    "long_range = (-123, -70)\n",
    "players = generate_players(num_players, long_range, lat_range)\n",
    "G.add_nodes_from(players.keys())\n",
    "\n",
    "def get_delay(graph, node1, node2):\n",
    "    try:\n",
    "        delay = nx.shortest_path_length(graph, node1, node2, weight='length')\n",
    "        return delay\n",
    "    except nx.NetworkXNoPath:\n",
    "        # Ha nincs útvonal a két pont között\n",
    "        return float('inf')\n",
    "    \n",
    "delay = get_delay(G, list(server_positions.keys())[0], list(server_positions.keys())[1])\n",
    "print(delay)\n"
   ]
  },
  {
   "cell_type": "code",
   "execution_count": 25,
   "metadata": {},
   "outputs": [
    {
     "name": "stdout",
     "output_type": "stream",
     "text": [
      "0 : (-80.83, 35.22)\n",
      "1 : (-84.41, 33.74)\n",
      "2 : (-86.16, 39.77)\n",
      "3 : (-97.52, 35.46)\n",
      "4 : (-104.99, 39.74)\n",
      "5 : (-94.58, 39.09)\n",
      "6 : (-111.9, 40.71)\n",
      "7 : (-115.15, 35.16)\n",
      "8 : (-122.32, 47.57)\n",
      "9 : (-122.41, 37.78)\n",
      "10 : (-118.24, 33.84)\n",
      "11 : (-96.79, 32.78)\n",
      "12 : (-95.35, 29.74)\n",
      "13 : (-90.11, 30.0)\n",
      "14 : (-80.22, 25.78)\n",
      "15 : (-77.03, 38.9)\n",
      "16 : (-73.99, 40.73)\n",
      "17 : (-71.06, 42.36)\n",
      "18 : (-79.4, 43.71)\n",
      "19 : (-81.69, 41.5)\n",
      "20 : (-83.13, 42.34)\n",
      "21 : (-87.67, 41.86)\n",
      "22 : (-106.39, 31.79)\n",
      "23 : (-93.25, 44.98)\n",
      "24 : (-86.77, 36.16)\n",
      "25 : (-90.19, 38.63)\n"
     ]
    }
   ],
   "source": [
    "for nodeid, position in server_positions.items():\n",
    "    print(f\"{nodeid} : {position}\")"
   ]
  }
 ],
 "metadata": {
  "kernelspec": {
   "display_name": "Python 3",
   "language": "python",
   "name": "python3"
  },
  "language_info": {
   "codemirror_mode": {
    "name": "ipython",
    "version": 3
   },
   "file_extension": ".py",
   "mimetype": "text/x-python",
   "name": "python",
   "nbconvert_exporter": "python",
   "pygments_lexer": "ipython3",
   "version": "3.11.3"
  },
  "orig_nbformat": 4
 },
 "nbformat": 4,
 "nbformat_minor": 2
}
